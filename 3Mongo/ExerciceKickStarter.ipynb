{
 "cells": [
  {
   "cell_type": "markdown",
   "metadata": {},
   "source": [
    "#  Consignes\n",
    "\n",
    "## Description\n",
    "\n",
    "Ouvrir le fichier ks-projects-201801.csv, il recense environ 100 000 projets KickStarter. Intégrer les données directement avec L'API Python dans une base de données Mongo. \n",
    "\n",
    "Il conviendra de bien spécifier manuellement l'ID du document. Pensez aussi à bien formatter le type des données pour profiter des méthodes implémentées par Mongo. L'ensemble de données n'est pas forcément nécessaire, c'est à vous de créer votre modèle de données.\n",
    "\n",
    "## Questions\n",
    "\n",
    "- 1) Récupérer les 5 projets ayant reçu le plus de promesse de dons.\n",
    "- 2) Compter le nombre de projets ayant atteint leur but.\n",
    "- 3) Compter le nombre de projets pour chaque catégorie.\n",
    "- 4) Compter le nombre de projets français ayant été instanciés avant 2016.\n",
    "- 5) Récupérer les projets américains ayant demandé plus de 200 000 dollars.\n",
    "- 6) Compter le nombre de projet ayant \"Sport\" dans leur nom"
   ]
  },
  {
   "cell_type": "code",
   "execution_count": 1,
   "metadata": {},
   "outputs": [],
   "source": [
    "import pandas as pd\n",
    "import pymongo\n",
    "from datetime import datetime as dt"
   ]
  },
  {
   "cell_type": "code",
   "execution_count": 2,
   "metadata": {},
   "outputs": [],
   "source": [
    "client = pymongo.MongoClient('mongo')\n",
    "database = client['exercices']\n",
    "collection = database['kickstarter']"
   ]
  },
  {
   "cell_type": "code",
   "execution_count": 3,
   "metadata": {},
   "outputs": [
    {
     "data": {
      "text/plain": [
       "<pymongo.results.DeleteResult at 0x7f3a806f8dc0>"
      ]
     },
     "execution_count": 3,
     "metadata": {},
     "output_type": "execute_result"
    }
   ],
   "source": [
    "collection.delete_many({})"
   ]
  },
  {
   "cell_type": "code",
   "execution_count": 4,
   "metadata": {},
   "outputs": [
    {
     "name": "stderr",
     "output_type": "stream",
     "text": [
      "/root/.local/share/virtualenvs/code-AFz48Hjb/lib/python3.8/site-packages/IPython/core/interactiveshell.py:3146: DtypeWarning: Columns (6,8,10,12) have mixed types.Specify dtype option on import or set low_memory=False.\n",
      "  has_raised = await self.run_ast_nodes(code_ast.body, cell_name,\n"
     ]
    },
    {
     "data": {
      "text/html": [
       "<div>\n",
       "<style scoped>\n",
       "    .dataframe tbody tr th:only-of-type {\n",
       "        vertical-align: middle;\n",
       "    }\n",
       "\n",
       "    .dataframe tbody tr th {\n",
       "        vertical-align: top;\n",
       "    }\n",
       "\n",
       "    .dataframe thead th {\n",
       "        text-align: right;\n",
       "    }\n",
       "</style>\n",
       "<table border=\"1\" class=\"dataframe\">\n",
       "  <thead>\n",
       "    <tr style=\"text-align: right;\">\n",
       "      <th></th>\n",
       "      <th>ID</th>\n",
       "      <th>name</th>\n",
       "      <th>category</th>\n",
       "      <th>main_category</th>\n",
       "      <th>currency</th>\n",
       "      <th>deadline</th>\n",
       "      <th>goal</th>\n",
       "      <th>launched</th>\n",
       "      <th>pledged</th>\n",
       "      <th>state</th>\n",
       "      <th>backers</th>\n",
       "      <th>country</th>\n",
       "      <th>usd pledged</th>\n",
       "      <th>usd_pledged_real</th>\n",
       "    </tr>\n",
       "  </thead>\n",
       "  <tbody>\n",
       "    <tr>\n",
       "      <th>0</th>\n",
       "      <td>872782264</td>\n",
       "      <td>Scott Cooper's Solo CD \"A Leg Trick\" (Canceled)</td>\n",
       "      <td>Rock</td>\n",
       "      <td>Music</td>\n",
       "      <td>USD</td>\n",
       "      <td>2011-09-16</td>\n",
       "      <td>2000</td>\n",
       "      <td>2011-08-17 06:31:31</td>\n",
       "      <td>1145</td>\n",
       "      <td>canceled</td>\n",
       "      <td>24</td>\n",
       "      <td>US</td>\n",
       "      <td>1145</td>\n",
       "      <td>1145.000000</td>\n",
       "    </tr>\n",
       "    <tr>\n",
       "      <th>1</th>\n",
       "      <td>1326492673</td>\n",
       "      <td>Ohceola jewelry</td>\n",
       "      <td>Fashion</td>\n",
       "      <td>Fashion</td>\n",
       "      <td>USD</td>\n",
       "      <td>2012-08-22</td>\n",
       "      <td>18000</td>\n",
       "      <td>2012-07-23 20:46:48</td>\n",
       "      <td>1851</td>\n",
       "      <td>failed</td>\n",
       "      <td>28</td>\n",
       "      <td>US</td>\n",
       "      <td>1851</td>\n",
       "      <td>1851.000000</td>\n",
       "    </tr>\n",
       "    <tr>\n",
       "      <th>2</th>\n",
       "      <td>1688410639</td>\n",
       "      <td>Sluff Off &amp; Harald: Two latest EGGs are Classi...</td>\n",
       "      <td>Tabletop Games</td>\n",
       "      <td>Games</td>\n",
       "      <td>USD</td>\n",
       "      <td>2016-07-19</td>\n",
       "      <td>2000</td>\n",
       "      <td>2016-07-01 21:55:54</td>\n",
       "      <td>7534</td>\n",
       "      <td>successful</td>\n",
       "      <td>254</td>\n",
       "      <td>US</td>\n",
       "      <td>3796</td>\n",
       "      <td>7534.000000</td>\n",
       "    </tr>\n",
       "    <tr>\n",
       "      <th>3</th>\n",
       "      <td>156812982</td>\n",
       "      <td>SketchPlanner: Create and Plan- all in one bea...</td>\n",
       "      <td>Art Books</td>\n",
       "      <td>Publishing</td>\n",
       "      <td>USD</td>\n",
       "      <td>2017-09-27</td>\n",
       "      <td>13000</td>\n",
       "      <td>2017-08-28 15:47:02</td>\n",
       "      <td>16298</td>\n",
       "      <td>successful</td>\n",
       "      <td>367</td>\n",
       "      <td>US</td>\n",
       "      <td>2670</td>\n",
       "      <td>16298.000000</td>\n",
       "    </tr>\n",
       "    <tr>\n",
       "      <th>4</th>\n",
       "      <td>1835968190</td>\n",
       "      <td>Proven sales with custom motorcycle accessories</td>\n",
       "      <td>Sculpture</td>\n",
       "      <td>Art</td>\n",
       "      <td>CAD</td>\n",
       "      <td>2016-02-24</td>\n",
       "      <td>5000</td>\n",
       "      <td>2016-01-25 17:37:10</td>\n",
       "      <td>1</td>\n",
       "      <td>failed</td>\n",
       "      <td>1</td>\n",
       "      <td>CA</td>\n",
       "      <td>0.708148</td>\n",
       "      <td>0.738225</td>\n",
       "    </tr>\n",
       "  </tbody>\n",
       "</table>\n",
       "</div>"
      ],
      "text/plain": [
       "           ID                                               name  \\\n",
       "0   872782264    Scott Cooper's Solo CD \"A Leg Trick\" (Canceled)   \n",
       "1  1326492673                                    Ohceola jewelry   \n",
       "2  1688410639  Sluff Off & Harald: Two latest EGGs are Classi...   \n",
       "3   156812982  SketchPlanner: Create and Plan- all in one bea...   \n",
       "4  1835968190    Proven sales with custom motorcycle accessories   \n",
       "\n",
       "         category main_category currency    deadline   goal  \\\n",
       "0            Rock         Music      USD  2011-09-16   2000   \n",
       "1         Fashion       Fashion      USD  2012-08-22  18000   \n",
       "2  Tabletop Games         Games      USD  2016-07-19   2000   \n",
       "3       Art Books    Publishing      USD  2017-09-27  13000   \n",
       "4       Sculpture           Art      CAD  2016-02-24   5000   \n",
       "\n",
       "              launched pledged       state backers country usd pledged  \\\n",
       "0  2011-08-17 06:31:31    1145    canceled      24      US        1145   \n",
       "1  2012-07-23 20:46:48    1851      failed      28      US        1851   \n",
       "2  2016-07-01 21:55:54    7534  successful     254      US        3796   \n",
       "3  2017-08-28 15:47:02   16298  successful     367      US        2670   \n",
       "4  2016-01-25 17:37:10       1      failed       1      CA    0.708148   \n",
       "\n",
       "   usd_pledged_real  \n",
       "0       1145.000000  \n",
       "1       1851.000000  \n",
       "2       7534.000000  \n",
       "3      16298.000000  \n",
       "4          0.738225  "
      ]
     },
     "execution_count": 4,
     "metadata": {},
     "output_type": "execute_result"
    }
   ],
   "source": [
    "df_ks = pd.read_csv(\"./data/ks-projects-201801-sample.csv\")\n",
    "df_ks.head()"
   ]
  },
  {
   "cell_type": "markdown",
   "metadata": {},
   "source": [
    "Ce warning intervient lorsque pandas n'arrive pas à inférer le type de données. Il est sympa il précise les colones 6,8,10,12. "
   ]
  },
  {
   "cell_type": "code",
   "execution_count": 5,
   "metadata": {},
   "outputs": [
    {
     "data": {
      "text/plain": [
       "Index(['goal', 'pledged', 'backers', 'usd pledged'], dtype='object')"
      ]
     },
     "execution_count": 5,
     "metadata": {},
     "output_type": "execute_result"
    }
   ],
   "source": [
    "df_ks.columns[[6,8,10,12]]"
   ]
  },
  {
   "cell_type": "markdown",
   "metadata": {},
   "source": [
    "## Question 0"
   ]
  },
  {
   "cell_type": "markdown",
   "metadata": {},
   "source": [
    "### Nettoyer les données"
   ]
  },
  {
   "cell_type": "markdown",
   "metadata": {},
   "source": [
    "Tout d'abord, on convertit les types des variables que nous jugeons nécessaires. \n",
    "* deadline : datetime\n",
    "* launched : datetime\n",
    "* goal : float\n",
    "* pledged : float\n",
    "\n",
    "Lors du changement de class de la colonne goal, j'ai remarqué que cette colonne possédait une date à la ligne 66 141. Je l'ai alors supprimé.\n",
    "Ensuite, il faut enlever les lignes dupliquées et les valeurs manquantes.\n",
    "\n",
    "Enfin, j'ai rennomé la colonne ID en _id pour qu'elle soit plus adapté au traitement de données Mongo."
   ]
  },
  {
   "cell_type": "code",
   "execution_count": 6,
   "metadata": {},
   "outputs": [
    {
     "data": {
      "text/plain": [
       "(150000, 14)"
      ]
     },
     "execution_count": 6,
     "metadata": {},
     "output_type": "execute_result"
    }
   ],
   "source": [
    "df_ks.shape"
   ]
  },
  {
   "cell_type": "code",
   "execution_count": 7,
   "metadata": {},
   "outputs": [
    {
     "name": "stdout",
     "output_type": "stream",
     "text": [
      "<class 'pandas.core.frame.DataFrame'>\n",
      "RangeIndex: 150000 entries, 0 to 149999\n",
      "Data columns (total 14 columns):\n",
      " #   Column            Non-Null Count   Dtype  \n",
      "---  ------            --------------   -----  \n",
      " 0   ID                150000 non-null  int64  \n",
      " 1   name              149998 non-null  object \n",
      " 2   category          150000 non-null  object \n",
      " 3   main_category     150000 non-null  object \n",
      " 4   currency          150000 non-null  object \n",
      " 5   deadline          150000 non-null  object \n",
      " 6   goal              150000 non-null  object \n",
      " 7   launched          150000 non-null  object \n",
      " 8   pledged           150000 non-null  object \n",
      " 9   state             150000 non-null  object \n",
      " 10  backers           150000 non-null  object \n",
      " 11  country           150000 non-null  object \n",
      " 12  usd pledged       148518 non-null  object \n",
      " 13  usd_pledged_real  150000 non-null  float64\n",
      "dtypes: float64(1), int64(1), object(12)\n",
      "memory usage: 16.0+ MB\n"
     ]
    }
   ],
   "source": [
    "df_ks.info()"
   ]
  },
  {
   "cell_type": "code",
   "execution_count": 8,
   "metadata": {},
   "outputs": [],
   "source": [
    "df_ks['deadline'] = pd.to_datetime(df_ks['deadline'], errors = 'coerce')\n",
    "df_ks['launched'] = pd.to_datetime(df_ks['launched'], errors = 'coerce')"
   ]
  },
  {
   "cell_type": "code",
   "execution_count": 9,
   "metadata": {},
   "outputs": [
    {
     "data": {
      "text/html": [
       "<div>\n",
       "<style scoped>\n",
       "    .dataframe tbody tr th:only-of-type {\n",
       "        vertical-align: middle;\n",
       "    }\n",
       "\n",
       "    .dataframe tbody tr th {\n",
       "        vertical-align: top;\n",
       "    }\n",
       "\n",
       "    .dataframe thead th {\n",
       "        text-align: right;\n",
       "    }\n",
       "</style>\n",
       "<table border=\"1\" class=\"dataframe\">\n",
       "  <thead>\n",
       "    <tr style=\"text-align: right;\">\n",
       "      <th></th>\n",
       "      <th>ID</th>\n",
       "      <th>name</th>\n",
       "      <th>category</th>\n",
       "      <th>main_category</th>\n",
       "      <th>currency</th>\n",
       "      <th>deadline</th>\n",
       "      <th>goal</th>\n",
       "      <th>launched</th>\n",
       "      <th>pledged</th>\n",
       "      <th>state</th>\n",
       "      <th>backers</th>\n",
       "      <th>country</th>\n",
       "      <th>usd pledged</th>\n",
       "      <th>usd_pledged_real</th>\n",
       "    </tr>\n",
       "  </thead>\n",
       "  <tbody>\n",
       "    <tr>\n",
       "      <th>66141</th>\n",
       "      <td>85964225</td>\n",
       "      <td>Debut Album from Michael Adam</td>\n",
       "      <td>Grace is Leaving</td>\n",
       "      <td>Indie Rock</td>\n",
       "      <td>Music</td>\n",
       "      <td>NaT</td>\n",
       "      <td>2014-04-17</td>\n",
       "      <td>NaT</td>\n",
       "      <td>2014-04-02 21:56:35</td>\n",
       "      <td>850.0</td>\n",
       "      <td>successful</td>\n",
       "      <td>32</td>\n",
       "      <td>US</td>\n",
       "      <td>850.0</td>\n",
       "    </tr>\n",
       "  </tbody>\n",
       "</table>\n",
       "</div>"
      ],
      "text/plain": [
       "             ID                            name          category  \\\n",
       "66141  85964225  Debut Album from Michael Adam   Grace is Leaving   \n",
       "\n",
       "      main_category currency deadline        goal launched  \\\n",
       "66141    Indie Rock    Music      NaT  2014-04-17      NaT   \n",
       "\n",
       "                   pledged  state     backers country usd pledged  \\\n",
       "66141  2014-04-02 21:56:35  850.0  successful      32          US   \n",
       "\n",
       "       usd_pledged_real  \n",
       "66141             850.0  "
      ]
     },
     "execution_count": 9,
     "metadata": {},
     "output_type": "execute_result"
    }
   ],
   "source": [
    "df_ks[df_ks['goal'] == '2014-04-17']"
   ]
  },
  {
   "cell_type": "code",
   "execution_count": 10,
   "metadata": {},
   "outputs": [],
   "source": [
    "df_ks.drop(66141, inplace = True)"
   ]
  },
  {
   "cell_type": "code",
   "execution_count": 11,
   "metadata": {},
   "outputs": [],
   "source": [
    "df_ks['goal'] = df_ks['goal'].astype('float')\n",
    "df_ks['pledged'] = df_ks['pledged'].astype('float')"
   ]
  },
  {
   "cell_type": "code",
   "execution_count": 12,
   "metadata": {},
   "outputs": [
    {
     "data": {
      "text/plain": [
       "0"
      ]
     },
     "execution_count": 12,
     "metadata": {},
     "output_type": "execute_result"
    }
   ],
   "source": [
    "df_ks.duplicated().sum()"
   ]
  },
  {
   "cell_type": "code",
   "execution_count": 13,
   "metadata": {},
   "outputs": [
    {
     "data": {
      "text/plain": [
       "1484"
      ]
     },
     "execution_count": 13,
     "metadata": {},
     "output_type": "execute_result"
    }
   ],
   "source": [
    "df_ks.isna().sum().sum()"
   ]
  },
  {
   "cell_type": "code",
   "execution_count": 14,
   "metadata": {},
   "outputs": [],
   "source": [
    "df_ks_clean = df_ks.dropna()"
   ]
  },
  {
   "cell_type": "code",
   "execution_count": 15,
   "metadata": {},
   "outputs": [
    {
     "data": {
      "text/plain": [
       "(148515, 14)"
      ]
     },
     "execution_count": 15,
     "metadata": {},
     "output_type": "execute_result"
    }
   ],
   "source": [
    "df_ks_clean.shape"
   ]
  },
  {
   "cell_type": "code",
   "execution_count": 16,
   "metadata": {},
   "outputs": [],
   "source": [
    "df_ks_clean = df_ks_clean.rename(columns = {'ID' : '_id'})"
   ]
  },
  {
   "cell_type": "code",
   "execution_count": 17,
   "metadata": {},
   "outputs": [
    {
     "name": "stdout",
     "output_type": "stream",
     "text": [
      "<class 'pandas.core.frame.DataFrame'>\n",
      "Int64Index: 148515 entries, 0 to 149999\n",
      "Data columns (total 14 columns):\n",
      " #   Column            Non-Null Count   Dtype         \n",
      "---  ------            --------------   -----         \n",
      " 0   _id               148515 non-null  int64         \n",
      " 1   name              148515 non-null  object        \n",
      " 2   category          148515 non-null  object        \n",
      " 3   main_category     148515 non-null  object        \n",
      " 4   currency          148515 non-null  object        \n",
      " 5   deadline          148515 non-null  datetime64[ns]\n",
      " 6   goal              148515 non-null  float64       \n",
      " 7   launched          148515 non-null  datetime64[ns]\n",
      " 8   pledged           148515 non-null  float64       \n",
      " 9   state             148515 non-null  object        \n",
      " 10  backers           148515 non-null  object        \n",
      " 11  country           148515 non-null  object        \n",
      " 12  usd pledged       148515 non-null  object        \n",
      " 13  usd_pledged_real  148515 non-null  float64       \n",
      "dtypes: datetime64[ns](2), float64(3), int64(1), object(8)\n",
      "memory usage: 17.0+ MB\n"
     ]
    }
   ],
   "source": [
    "df_ks_clean.info()"
   ]
  },
  {
   "cell_type": "markdown",
   "metadata": {
    "slideshow": {
     "slide_type": "slide"
    }
   },
   "source": [
    "### Importer les données"
   ]
  },
  {
   "cell_type": "markdown",
   "metadata": {},
   "source": [
    "Il faut convertir la base de données en une liste de dictionnaires. Chaque ligne de df_ks_clean sera représenté en dictionnaire."
   ]
  },
  {
   "cell_type": "code",
   "execution_count": 18,
   "metadata": {},
   "outputs": [],
   "source": [
    "DOCUMENTS = df_ks_clean.to_dict(orient = 'records')"
   ]
  },
  {
   "cell_type": "code",
   "execution_count": null,
   "metadata": {},
   "outputs": [],
   "source": [
    "DOCUMENTS"
   ]
  },
  {
   "cell_type": "code",
   "execution_count": 19,
   "metadata": {},
   "outputs": [
    {
     "data": {
      "text/plain": [
       "<pymongo.results.InsertManyResult at 0x7f3a6b07c9c0>"
      ]
     },
     "execution_count": 19,
     "metadata": {},
     "output_type": "execute_result"
    }
   ],
   "source": [
    "collection.insert_many(DOCUMENTS)"
   ]
  },
  {
   "cell_type": "markdown",
   "metadata": {},
   "source": [
    "## Question 1  "
   ]
  },
  {
   "cell_type": "markdown",
   "metadata": {},
   "source": [
    "#### Récupérer les 5 projets ayant reçu le plus de promesse de dons."
   ]
  },
  {
   "cell_type": "markdown",
   "metadata": {},
   "source": [
    "On récupère les documents stockés dans la collection, puis on les trie dans un ordre décroissant selon la promesse de don  et on limite aux 5 premiers documents. On obtient alors les 5 documents ayant le usd_pledged_real les plus élevé."
   ]
  },
  {
   "cell_type": "code",
   "execution_count": 20,
   "metadata": {},
   "outputs": [
    {
     "name": "stdout",
     "output_type": "stream",
     "text": [
      "-----\n",
      "{'_id': 342886736, 'name': \"COOLEST COOLER: 21st Century Cooler that's Actually Cooler\", 'category': 'Product Design', 'main_category': 'Design', 'currency': 'USD', 'deadline': datetime.datetime(2014, 8, 30, 0, 0), 'goal': 50000.0, 'launched': datetime.datetime(2014, 7, 8, 10, 14, 37), 'pledged': 13285226.36, 'state': 'successful', 'backers': '62642', 'country': 'US', 'usd pledged': '13285226.36', 'usd_pledged_real': 13285226.36}\n",
      "-----\n",
      "{'_id': 2103598555, 'name': 'Pebble 2, Time 2 + All-New Pebble Core', 'category': 'Product Design', 'main_category': 'Design', 'currency': 'USD', 'deadline': datetime.datetime(2016, 6, 30, 0, 0), 'goal': 1000000.0, 'launched': datetime.datetime(2016, 5, 24, 15, 49, 52), 'pledged': 12779843.49, 'state': 'successful', 'backers': '66673', 'country': 'US', 'usd pledged': '12779843.49', 'usd_pledged_real': 12779843.49}\n",
      "-----\n",
      "{'_id': 1033978702, 'name': 'OUYA: A New Kind of Video Game Console', 'category': 'Gaming Hardware', 'main_category': 'Games', 'currency': 'USD', 'deadline': datetime.datetime(2012, 8, 9, 0, 0), 'goal': 950000.0, 'launched': datetime.datetime(2012, 7, 10, 14, 44, 41), 'pledged': 8596474.58, 'state': 'successful', 'backers': '63416', 'country': 'US', 'usd pledged': '8596474.58', 'usd_pledged_real': 8596474.58}\n",
      "-----\n",
      "{'_id': 450099426, 'name': 'The Everyday Backpack, Tote, and Sling', 'category': 'Product Design', 'main_category': 'Design', 'currency': 'USD', 'deadline': datetime.datetime(2016, 9, 10, 0, 0), 'goal': 500000.0, 'launched': datetime.datetime(2016, 7, 13, 0, 47, 35), 'pledged': 6565782.5, 'state': 'successful', 'backers': 26359, 'country': 'US', 'usd pledged': 1462611.0, 'usd_pledged_real': 6565782.5}\n",
      "-----\n",
      "{'_id': 1386523707, 'name': 'Fidget Cube: A Vinyl Desk Toy', 'category': 'Product Design', 'main_category': 'Design', 'currency': 'USD', 'deadline': datetime.datetime(2016, 10, 20, 0, 0), 'goal': 15000.0, 'launched': datetime.datetime(2016, 8, 30, 22, 2, 9), 'pledged': 6465690.3, 'state': 'successful', 'backers': '154926', 'country': 'US', 'usd pledged': '13770.0', 'usd_pledged_real': 6465690.3}\n"
     ]
    }
   ],
   "source": [
    "cur = collection.find().sort([(\"usd_pledged_real\", -1)]).limit(5)\n",
    "\n",
    "for document in cur :\n",
    "    print('-----')\n",
    "    print(document)"
   ]
  },
  {
   "cell_type": "markdown",
   "metadata": {},
   "source": [
    "## Question 2"
   ]
  },
  {
   "cell_type": "markdown",
   "metadata": {},
   "source": [
    "#### Compter le nombre de projets ayant atteint leur but."
   ]
  },
  {
   "cell_type": "markdown",
   "metadata": {},
   "source": [
    "Les projets ayant atteint leur but sont ceux à l'état réussite, c'est à dire state = successful. Nous comptons donc tous les documents avec cette valeur."
   ]
  },
  {
   "cell_type": "code",
   "execution_count": 21,
   "metadata": {},
   "outputs": [
    {
     "data": {
      "text/plain": [
       "52998"
      ]
     },
     "execution_count": 21,
     "metadata": {},
     "output_type": "execute_result"
    }
   ],
   "source": [
    "cur = collection.count_documents({\"state\" : \"successful\"})\n",
    "cur"
   ]
  },
  {
   "cell_type": "markdown",
   "metadata": {},
   "source": [
    "Il y a 52 998 projets qui ont atteint leur but."
   ]
  },
  {
   "cell_type": "markdown",
   "metadata": {},
   "source": [
    "## Question 3"
   ]
  },
  {
   "cell_type": "markdown",
   "metadata": {},
   "source": [
    "#### Compter le nombre de projets pour chaque catégorie."
   ]
  },
  {
   "cell_type": "markdown",
   "metadata": {},
   "source": [
    "On regroupe les projets par catégories puis on incrémente avec $sum$ qui fait la somme de 1 pour chaque chaque projet. La fonction $aggregate$ me permet de faire cela en regroupant les documents par catégories et d'effectuer l'opération de somme sur chaque catégorie."
   ]
  },
  {
   "cell_type": "code",
   "execution_count": 23,
   "metadata": {},
   "outputs": [
    {
     "data": {
      "text/plain": [
       "[{'_id': 'Rock', 'Nombre de projets': 2707},\n",
       " {'_id': 'Mobile Games', 'Nombre de projets': 650},\n",
       " {'_id': 'Film & Video', 'Nombre de projets': 3657},\n",
       " {'_id': 'Fiction', 'Nombre de projets': 3703},\n",
       " {'_id': 'Performance Art', 'Nombre de projets': 855},\n",
       " {'_id': 'Comics', 'Nombre de projets': 1931},\n",
       " {'_id': 'Periodicals', 'Nombre de projets': 517},\n",
       " {'_id': 'Fantasy', 'Nombre de projets': 132},\n",
       " {'_id': 'Animation', 'Nombre de projets': 1017},\n",
       " {'_id': 'Festivals', 'Nombre de projets': 313},\n",
       " {'_id': 'Print', 'Nombre de projets': 287},\n",
       " {'_id': 'Live Games', 'Nombre de projets': 394},\n",
       " {'_id': 'Documentary', 'Nombre de projets': 6497},\n",
       " {'_id': 'Graphic Novels', 'Nombre de projets': 702},\n",
       " {'_id': 'Ceramics', 'Nombre de projets': 128},\n",
       " {'_id': 'Robots', 'Nombre de projets': 237},\n",
       " {'_id': 'Conceptual Art', 'Nombre de projets': 393},\n",
       " {'_id': 'Quilts', 'Nombre de projets': 32},\n",
       " {'_id': \"Farmer's Markets\", 'Nombre de projets': 175},\n",
       " {'_id': 'Family', 'Nombre de projets': 130},\n",
       " {'_id': 'Indie Rock', 'Nombre de projets': 2192},\n",
       " {'_id': 'Video Games', 'Nombre de projets': 4797},\n",
       " {'_id': 'Animals', 'Nombre de projets': 97},\n",
       " {'_id': 'Food', 'Nombre de projets': 4612},\n",
       " {'_id': 'Calendars', 'Nombre de projets': 112},\n",
       " {'_id': 'Technology', 'Nombre de projets': 2689},\n",
       " {'_id': 'Civic Design', 'Nombre de projets': 130},\n",
       " {'_id': 'Translations', 'Nombre de projets': 76},\n",
       " {'_id': 'Theater', 'Nombre de projets': 2786},\n",
       " {'_id': 'Wearables', 'Nombre de projets': 508},\n",
       " {'_id': 'Woodworking', 'Nombre de projets': 433},\n",
       " {'_id': 'Drinks', 'Nombre de projets': 995},\n",
       " {'_id': 'Nature', 'Nombre de projets': 219},\n",
       " {'_id': 'Action', 'Nombre de projets': 282},\n",
       " {'_id': 'Poetry', 'Nombre de projets': 532},\n",
       " {'_id': 'Sound', 'Nombre de projets': 255},\n",
       " {'_id': 'Kids', 'Nombre de projets': 109},\n",
       " {'_id': 'Country & Folk', 'Nombre de projets': 1790},\n",
       " {'_id': 'Letterpress', 'Nombre de projets': 24},\n",
       " {'_id': 'Interactive Design', 'Nombre de projets': 146},\n",
       " {'_id': 'Web', 'Nombre de projets': 2017},\n",
       " {'_id': 'Performances', 'Nombre de projets': 414},\n",
       " {'_id': 'Thrillers', 'Nombre de projets': 302},\n",
       " {'_id': 'Events', 'Nombre de projets': 321},\n",
       " {'_id': 'Graphic Design', 'Nombre de projets': 765},\n",
       " {'_id': 'Shorts', 'Nombre de projets': 4857},\n",
       " {'_id': 'Romance', 'Nombre de projets': 74},\n",
       " {'_id': 'R&B', 'Nombre de projets': 172},\n",
       " {'_id': 'Design', 'Nombre de projets': 1641},\n",
       " {'_id': '3D Printing', 'Nombre de projets': 271},\n",
       " {'_id': 'Audio', 'Nombre de projets': 164},\n",
       " {'_id': 'Public Art', 'Nombre de projets': 1248},\n",
       " {'_id': 'Community Gardens', 'Nombre de projets': 115},\n",
       " {'_id': 'Weaving', 'Nombre de projets': 38},\n",
       " {'_id': 'Punk', 'Nombre de projets': 127},\n",
       " {'_id': 'Video', 'Nombre de projets': 147},\n",
       " {'_id': 'Footwear', 'Nombre de projets': 379},\n",
       " {'_id': 'Crochet', 'Nombre de projets': 61},\n",
       " {'_id': 'Taxidermy', 'Nombre de projets': 7},\n",
       " {'_id': 'Games', 'Nombre de projets': 1331},\n",
       " {'_id': 'Radio & Podcasts', 'Nombre de projets': 349},\n",
       " {'_id': 'Photobooks', 'Nombre de projets': 608},\n",
       " {'_id': 'Tabletop Games', 'Nombre de projets': 5579},\n",
       " {'_id': 'Television', 'Nombre de projets': 401},\n",
       " {'_id': 'Literary Spaces', 'Nombre de projets': 10},\n",
       " {'_id': 'Latin', 'Nombre de projets': 63},\n",
       " {'_id': 'Comic Books', 'Nombre de projets': 1032},\n",
       " {'_id': 'Architecture', 'Nombre de projets': 300},\n",
       " {'_id': 'Food Trucks', 'Nombre de projets': 687},\n",
       " {'_id': 'Gaming Hardware', 'Nombre de projets': 178},\n",
       " {'_id': 'Jewelry', 'Nombre de projets': 472},\n",
       " {'_id': 'Small Batch', 'Nombre de projets': 701},\n",
       " {'_id': 'Narrative Film', 'Nombre de projets': 2097},\n",
       " {'_id': 'Textiles', 'Nombre de projets': 105},\n",
       " {'_id': 'Dance', 'Nombre de projets': 900},\n",
       " {'_id': 'Immersive', 'Nombre de projets': 131},\n",
       " {'_id': 'Mixed Media', 'Nombre de projets': 1118},\n",
       " {'_id': 'Faith', 'Nombre de projets': 439},\n",
       " {'_id': 'Experimental', 'Nombre de projets': 357},\n",
       " {'_id': 'Glass', 'Nombre de projets': 51},\n",
       " {'_id': 'Pop', 'Nombre de projets': 1302},\n",
       " {'_id': 'Anthologies', 'Nombre de projets': 300},\n",
       " {'_id': 'Farms', 'Nombre de projets': 482},\n",
       " {'_id': 'Jazz', 'Nombre de projets': 733},\n",
       " {'_id': 'Embroidery', 'Nombre de projets': 49},\n",
       " {'_id': 'Software', 'Nombre de projets': 1193},\n",
       " {'_id': 'Pet Fashion', 'Nombre de projets': 51},\n",
       " {'_id': 'Electronic Music', 'Nombre de projets': 858},\n",
       " {'_id': 'World Music', 'Nombre de projets': 850},\n",
       " {'_id': 'Music', 'Nombre de projets': 5293},\n",
       " {'_id': 'Drama', 'Nombre de projets': 871},\n",
       " {'_id': 'Plays', 'Nombre de projets': 539},\n",
       " {'_id': 'Spaces', 'Nombre de projets': 331},\n",
       " {'_id': 'Apparel', 'Nombre de projets': 2827},\n",
       " {'_id': 'DIY Electronics', 'Nombre de projets': 358},\n",
       " {'_id': 'Space Exploration', 'Nombre de projets': 137},\n",
       " {'_id': 'Webcomics', 'Nombre de projets': 259},\n",
       " {'_id': 'Apps', 'Nombre de projets': 2535},\n",
       " {'_id': 'People', 'Nombre de projets': 440},\n",
       " {'_id': 'Photo', 'Nombre de projets': 58},\n",
       " {'_id': 'Blues', 'Nombre de projets': 113},\n",
       " {'_id': 'Literary Journals', 'Nombre de projets': 118},\n",
       " {'_id': 'Art Books', 'Nombre de projets': 1065},\n",
       " {'_id': 'Workshops', 'Nombre de projets': 59},\n",
       " {'_id': 'Couture', 'Nombre de projets': 108},\n",
       " {'_id': 'Places', 'Nombre de projets': 283},\n",
       " {'_id': 'Bacon', 'Nombre de projets': 78},\n",
       " {'_id': 'Printing', 'Nombre de projets': 83},\n",
       " {'_id': 'Illustration', 'Nombre de projets': 1263},\n",
       " {'_id': 'Horror', 'Nombre de projets': 525},\n",
       " {'_id': 'Ready-to-wear', 'Nombre de projets': 332},\n",
       " {'_id': 'Candles', 'Nombre de projets': 168},\n",
       " {'_id': 'Installations', 'Nombre de projets': 178},\n",
       " {'_id': 'Video Art', 'Nombre de projets': 65},\n",
       " {'_id': 'Musical', 'Nombre de projets': 367},\n",
       " {'_id': 'Gadgets', 'Nombre de projets': 1210},\n",
       " {'_id': 'Publishing', 'Nombre de projets': 2147},\n",
       " {'_id': 'Makerspaces', 'Nombre de projets': 91},\n",
       " {'_id': 'Movie Theaters', 'Nombre de projets': 90},\n",
       " {'_id': 'Product Design', 'Nombre de projets': 8885},\n",
       " {'_id': 'Art', 'Nombre de projets': 3358},\n",
       " {'_id': 'Flight', 'Nombre de projets': 158},\n",
       " {'_id': 'Webseries', 'Nombre de projets': 2316},\n",
       " {'_id': 'Metal', 'Nombre de projets': 274},\n",
       " {'_id': 'Classical Music', 'Nombre de projets': 1064},\n",
       " {'_id': 'Journalism', 'Nombre de projets': 672},\n",
       " {'_id': 'Photography', 'Nombre de projets': 2239},\n",
       " {'_id': 'Digital Art', 'Nombre de projets': 524},\n",
       " {'_id': 'Academic', 'Nombre de projets': 367},\n",
       " {'_id': 'Puzzles', 'Nombre de projets': 95},\n",
       " {'_id': 'Young Adult', 'Nombre de projets': 328},\n",
       " {'_id': 'Fabrication Tools', 'Nombre de projets': 96},\n",
       " {'_id': 'Pottery', 'Nombre de projets': 40},\n",
       " {'_id': 'Restaurants', 'Nombre de projets': 1088},\n",
       " {'_id': 'Crafts', 'Nombre de projets': 1834},\n",
       " {'_id': 'Hip-Hop', 'Nombre de projets': 1555},\n",
       " {'_id': 'Fine Art', 'Nombre de projets': 290},\n",
       " {'_id': 'Cookbooks', 'Nombre de projets': 217},\n",
       " {'_id': 'Fashion', 'Nombre de projets': 3379},\n",
       " {'_id': 'Knitting', 'Nombre de projets': 78},\n",
       " {'_id': 'Hardware', 'Nombre de projets': 1430},\n",
       " {'_id': 'Accessories', 'Nombre de projets': 1203},\n",
       " {'_id': 'Zines', 'Nombre de projets': 144},\n",
       " {'_id': 'Playing Cards', 'Nombre de projets': 963},\n",
       " {'_id': 'Sculpture', 'Nombre de projets': 737},\n",
       " {'_id': 'Music Videos', 'Nombre de projets': 299},\n",
       " {'_id': 'DIY', 'Nombre de projets': 480},\n",
       " {'_id': 'Nonfiction', 'Nombre de projets': 3390},\n",
       " {'_id': 'Childrenswear', 'Nombre de projets': 192},\n",
       " {'_id': 'Typography', 'Nombre de projets': 44},\n",
       " {'_id': 'Camera Equipment', 'Nombre de projets': 165},\n",
       " {'_id': 'Painting', 'Nombre de projets': 1288},\n",
       " {'_id': 'Residencies', 'Nombre de projets': 32},\n",
       " {'_id': \"Children's Books\", 'Nombre de projets': 2686},\n",
       " {'_id': 'Vegan', 'Nombre de projets': 229},\n",
       " {'_id': 'Stationery', 'Nombre de projets': 90},\n",
       " {'_id': 'Comedy', 'Nombre de projets': 923},\n",
       " {'_id': 'Chiptune', 'Nombre de projets': 10},\n",
       " {'_id': 'Science Fiction', 'Nombre de projets': 274}]"
      ]
     },
     "execution_count": 23,
     "metadata": {},
     "output_type": "execute_result"
    }
   ],
   "source": [
    "cur = collection.aggregate([{\"$group\" : {\"_id\" : \"$category\", \"Nombre de projets\" : {\"$sum\" : 1}}}])\n",
    "list(cur)"
   ]
  },
  {
   "cell_type": "markdown",
   "metadata": {},
   "source": [
    "Il y a beaucoup de catégories distinctes, alors j'ai réitéré le comptage pour les catégories principales."
   ]
  },
  {
   "cell_type": "code",
   "execution_count": 24,
   "metadata": {},
   "outputs": [
    {
     "data": {
      "text/plain": [
       "[{'_id': 'Music', 'Nombre de projets': 19657},\n",
       " {'_id': 'Crafts', 'Nombre de projets': 3463},\n",
       " {'_id': 'Technology', 'Nombre de projets': 12871},\n",
       " {'_id': 'Journalism', 'Nombre de projets': 1807},\n",
       " {'_id': 'Photography', 'Nombre de projets': 4176},\n",
       " {'_id': 'Theater', 'Nombre de projets': 4305},\n",
       " {'_id': 'Publishing', 'Nombre de projets': 15721},\n",
       " {'_id': 'Games', 'Nombre de projets': 13987},\n",
       " {'_id': 'Art', 'Nombre de projets': 11260},\n",
       " {'_id': 'Food', 'Nombre de projets': 9805},\n",
       " {'_id': 'Comics', 'Nombre de projets': 4139},\n",
       " {'_id': 'Dance', 'Nombre de projets': 1488},\n",
       " {'_id': 'Fashion', 'Nombre de projets': 8943},\n",
       " {'_id': 'Film & Video', 'Nombre de projets': 24982},\n",
       " {'_id': 'Design', 'Nombre de projets': 11911}]"
      ]
     },
     "execution_count": 24,
     "metadata": {},
     "output_type": "execute_result"
    }
   ],
   "source": [
    "cur = collection.aggregate([{\"$group\" : {\"_id\" : \"$main_category\", \"Nombre de projets\" : {\"$sum\" : 1}}}])\n",
    "list(cur)"
   ]
  },
  {
   "cell_type": "markdown",
   "metadata": {},
   "source": [
    "## Question 4"
   ]
  },
  {
   "cell_type": "markdown",
   "metadata": {},
   "source": [
    "#### Compter le nombre de projets français ayant été instanciés avant 2016."
   ]
  },
  {
   "cell_type": "markdown",
   "metadata": {},
   "source": [
    "On va chercher les projets français ($country$ = $FR$) dont la date de $launched$ précède $2016$ avec l'utilisation de l'opérateur *plus petit* $lt$. De plus, les deux conditions sont connectées par l'opérateur logique $and$.\n",
    "\n",
    "*len(list(cur)) est équivalent à l'utilisation de la fonction count_documents()*"
   ]
  },
  {
   "cell_type": "code",
   "execution_count": 25,
   "metadata": {},
   "outputs": [
    {
     "data": {
      "text/plain": [
       "330"
      ]
     },
     "execution_count": 25,
     "metadata": {},
     "output_type": "execute_result"
    }
   ],
   "source": [
    "cur = collection.find({\"$and\" : [{\"country\" : \"FR\"}, {\"launched\" : {\"$lt\" : dt.strptime(\"2016-01-01 00:00:00\", \"%Y-%m-%d %H:%M:%S\")}}]})\n",
    "len(list(cur))"
   ]
  },
  {
   "cell_type": "markdown",
   "metadata": {},
   "source": [
    "Il y a 330 projets KickStarter français qui ont été lancé avant 2016."
   ]
  },
  {
   "cell_type": "markdown",
   "metadata": {},
   "source": [
    "## Question 5"
   ]
  },
  {
   "cell_type": "markdown",
   "metadata": {},
   "source": [
    "#### Récupérer les projets américains ayant demandé plus de 200 000 dollars."
   ]
  },
  {
   "cell_type": "markdown",
   "metadata": {},
   "source": [
    "On va cherché les projets de $country$ = $US$ et qui ont un $goal$ supérieur $gt$ à $200 000$. On va limité l'affichage à 5 projets afin d'effectuer une vérification sur ceux-là."
   ]
  },
  {
   "cell_type": "code",
   "execution_count": 26,
   "metadata": {},
   "outputs": [
    {
     "data": {
      "text/plain": [
       "[{'_id': 866634482,\n",
       "  'name': 'A CALL TO ADVENTURE',\n",
       "  'category': 'Film & Video',\n",
       "  'main_category': 'Film & Video',\n",
       "  'currency': 'USD',\n",
       "  'deadline': datetime.datetime(2012, 9, 14, 0, 0),\n",
       "  'goal': 287000.0,\n",
       "  'launched': datetime.datetime(2012, 8, 13, 23, 14, 2),\n",
       "  'pledged': 1465.0,\n",
       "  'state': 'failed',\n",
       "  'backers': 11,\n",
       "  'country': 'US',\n",
       "  'usd pledged': 1465.0,\n",
       "  'usd_pledged_real': 1465.0},\n",
       " {'_id': 993194166,\n",
       "  'name': 'Storybricks, the storytelling online RPG',\n",
       "  'category': 'Video Games',\n",
       "  'main_category': 'Games',\n",
       "  'currency': 'USD',\n",
       "  'deadline': datetime.datetime(2012, 6, 1, 0, 0),\n",
       "  'goal': 250000.0,\n",
       "  'launched': datetime.datetime(2012, 5, 1, 20, 49, 58),\n",
       "  'pledged': 23680.54,\n",
       "  'state': 'failed',\n",
       "  'backers': 409,\n",
       "  'country': 'US',\n",
       "  'usd pledged': 23680.54,\n",
       "  'usd_pledged_real': 23680.54},\n",
       " {'_id': 1147175344,\n",
       "  'name': 'Shine On New World',\n",
       "  'category': 'Theater',\n",
       "  'main_category': 'Theater',\n",
       "  'currency': 'USD',\n",
       "  'deadline': datetime.datetime(2013, 11, 4, 0, 0),\n",
       "  'goal': 300000.0,\n",
       "  'launched': datetime.datetime(2013, 9, 30, 18, 18, 40),\n",
       "  'pledged': 12314.0,\n",
       "  'state': 'failed',\n",
       "  'backers': 50,\n",
       "  'country': 'US',\n",
       "  'usd pledged': 12314.0,\n",
       "  'usd_pledged_real': 12314.0},\n",
       " {'_id': 2012810303,\n",
       "  'name': 'Nightclub',\n",
       "  'category': 'Music',\n",
       "  'main_category': 'Music',\n",
       "  'currency': 'USD',\n",
       "  'deadline': datetime.datetime(2017, 9, 10, 0, 0),\n",
       "  'goal': 3000000.0,\n",
       "  'launched': datetime.datetime(2017, 8, 11, 18, 8, 7),\n",
       "  'pledged': 1.0,\n",
       "  'state': 'failed',\n",
       "  'backers': 1,\n",
       "  'country': 'US',\n",
       "  'usd pledged': 0.0,\n",
       "  'usd_pledged_real': 1.0},\n",
       " {'_id': 593221398,\n",
       "  'name': 'Nastaran (Wild Rose)',\n",
       "  'category': 'Documentary',\n",
       "  'main_category': 'Film & Video',\n",
       "  'currency': 'USD',\n",
       "  'deadline': datetime.datetime(2015, 6, 30, 0, 0),\n",
       "  'goal': 250000.0,\n",
       "  'launched': datetime.datetime(2015, 5, 8, 21, 3, 20),\n",
       "  'pledged': 0.0,\n",
       "  'state': 'failed',\n",
       "  'backers': 0,\n",
       "  'country': 'US',\n",
       "  'usd pledged': 0.0,\n",
       "  'usd_pledged_real': 0.0}]"
      ]
     },
     "execution_count": 26,
     "metadata": {},
     "output_type": "execute_result"
    }
   ],
   "source": [
    "cur = collection.find({\"$and\" : [{\"country\" : \"US\"}, {\"goal\" : {\"$gt\" : 200000.0}}]})\n",
    "list(cur.limit(5))"
   ]
  },
  {
   "cell_type": "markdown",
   "metadata": {},
   "source": [
    "## Question 6 "
   ]
  },
  {
   "cell_type": "markdown",
   "metadata": {},
   "source": [
    "#### Compter le nombre de projet ayant \"Sport\" dans leur nom"
   ]
  },
  {
   "cell_type": "code",
   "execution_count": 27,
   "metadata": {},
   "outputs": [
    {
     "data": {
      "text/plain": [
       "'name_text'"
      ]
     },
     "execution_count": 27,
     "metadata": {},
     "output_type": "execute_result"
    }
   ],
   "source": [
    "collection.create_index([(\"name\",  \"text\")])"
   ]
  },
  {
   "cell_type": "code",
   "execution_count": 28,
   "metadata": {},
   "outputs": [
    {
     "data": {
      "text/plain": [
       "316"
      ]
     },
     "execution_count": 28,
     "metadata": {},
     "output_type": "execute_result"
    }
   ],
   "source": [
    "cur = collection.count_documents( {\"$text\": {\"$search\": \"Sport\"}} )\n",
    "cur"
   ]
  },
  {
   "cell_type": "markdown",
   "metadata": {},
   "source": [
    "Il y a 316 projets avec le mot \"Sport\" dans son nom."
   ]
  }
 ],
 "metadata": {
  "kernelspec": {
   "display_name": "Python 3",
   "language": "python",
   "name": "python3"
  },
  "language_info": {
   "codemirror_mode": {
    "name": "ipython",
    "version": 3
   },
   "file_extension": ".py",
   "mimetype": "text/x-python",
   "name": "python",
   "nbconvert_exporter": "python",
   "pygments_lexer": "ipython3",
   "version": "3.8.6"
  }
 },
 "nbformat": 4,
 "nbformat_minor": 2
}
